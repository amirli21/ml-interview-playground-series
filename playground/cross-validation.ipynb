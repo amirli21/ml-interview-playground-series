{
 "cells": [
  {
   "cell_type": "markdown",
   "id": "29a0de13",
   "metadata": {},
   "source": [
    "# 1. Cross-Validation"
   ]
  },
  {
   "cell_type": "code",
   "execution_count": 1,
   "id": "32b31bff",
   "metadata": {},
   "outputs": [],
   "source": [
    "import numpy as np\n",
    "import pandas as pd\n",
    "from scipy.special import comb\n",
    "\n",
    "from sklearn.datasets import load_breast_cancer\n",
    "from sklearn.linear_model import LogisticRegression\n",
    "from sklearn.metrics import accuracy_score\n",
    "\n",
    "from sklearn.model_selection import (\n",
    "    KFold,\n",
    "    RepeatedKFold,\n",
    "    LeaveOneOut,\n",
    "    LeavePOut,\n",
    "    StratifiedKFold,\n",
    "    cross_validate,\n",
    "    train_test_split,\n",
    ")"
   ]
  },
  {
   "cell_type": "code",
   "execution_count": 2,
   "id": "bb069063",
   "metadata": {},
   "outputs": [],
   "source": [
    "np.set_printoptions(precision=2)"
   ]
  },
  {
   "cell_type": "code",
   "execution_count": 3,
   "id": "2a55d18d",
   "metadata": {},
   "outputs": [],
   "source": [
    "X, y = load_breast_cancer(as_frame=True, return_X_y=True)"
   ]
  },
  {
   "cell_type": "code",
   "execution_count": 4,
   "id": "b58d6d65",
   "metadata": {},
   "outputs": [],
   "source": [
    "y = pd.Series(y).map({0:1, 1:0})"
   ]
  },
  {
   "cell_type": "code",
   "execution_count": 5,
   "id": "7a63ea40",
   "metadata": {},
   "outputs": [
    {
     "data": {
      "text/plain": [
       "157    0\n",
       "193    1\n",
       "67     0\n",
       "Name: target, dtype: int64"
      ]
     },
     "execution_count": 5,
     "metadata": {},
     "output_type": "execute_result"
    }
   ],
   "source": [
    "y.sample(3)"
   ]
  },
  {
   "cell_type": "code",
   "execution_count": 6,
   "id": "37e5cfed",
   "metadata": {},
   "outputs": [
    {
     "data": {
      "text/plain": [
       "target\n",
       "0    0.627417\n",
       "1    0.372583\n",
       "Name: proportion, dtype: float64"
      ]
     },
     "execution_count": 6,
     "metadata": {},
     "output_type": "execute_result"
    }
   ],
   "source": [
    "# percentage of benign(0) and malignant(1)\n",
    "\n",
    "y.value_counts(normalize=True)"
   ]
  },
  {
   "cell_type": "code",
   "execution_count": 7,
   "id": "dffd8378",
   "metadata": {},
   "outputs": [
    {
     "data": {
      "text/plain": [
       "(398, 30)"
      ]
     },
     "metadata": {},
     "output_type": "display_data"
    },
    {
     "data": {
      "text/plain": [
       "(171, 30)"
      ]
     },
     "metadata": {},
     "output_type": "display_data"
    }
   ],
   "source": [
    "# splitting the dataset into a train and test set\n",
    "\n",
    "X_train, X_test, y_train, y_test = train_test_split(\n",
    "    X, y, test_size=0.3, random_state=13)\n",
    "\n",
    "display(X_train.shape)\n",
    "display(X_test.shape)"
   ]
  },
  {
   "cell_type": "markdown",
   "id": "520a9b67",
   "metadata": {},
   "source": [
    "# 2. K-Fold Cross-Validation"
   ]
  },
  {
   "cell_type": "code",
   "execution_count": 8,
   "id": "90e01075",
   "metadata": {},
   "outputs": [
    {
     "data": {
      "text/plain": [
       "array([0.95, 0.93, 0.94, 0.96, 0.95])"
      ]
     },
     "execution_count": 8,
     "metadata": {},
     "output_type": "execute_result"
    }
   ],
   "source": [
    "logit = LogisticRegression(\n",
    "    penalty='l2', C=10, solver='liblinear', random_state=14, max_iter=10_000)\n",
    "\n",
    "kf = KFold(n_splits=5, shuffle=True, random_state=31)\n",
    "\n",
    "clf = cross_validate(\n",
    "    logit,\n",
    "    X_train,\n",
    "    y_train,\n",
    "    scoring='accuracy',\n",
    "    return_train_score=True,\n",
    "    cv=kf)\n",
    "\n",
    "clf['test_score']"
   ]
  },
  {
   "cell_type": "code",
   "execution_count": 9,
   "id": "608ea5bb",
   "metadata": {},
   "outputs": [
    {
     "name": "stdout",
     "output_type": "stream",
     "text": [
      "mean train set accuracy:  0.9673389720234222 +- 0.0054682032235071395\n",
      "mean test set accuracy:  0.9447784810126582 +- 0.012569307936512805\n"
     ]
    }
   ],
   "source": [
    "print('mean train set accuracy: ', np.mean(clf['train_score']), '+-', np.std(clf['train_score']))\n",
    "\n",
    "print('mean test set accuracy: ', np.mean(clf['test_score']), '+-', np.std(clf['test_score']))"
   ]
  },
  {
   "cell_type": "markdown",
   "id": "654ee8ca",
   "metadata": {},
   "source": [
    "# 3. Repeated K-Fold"
   ]
  },
  {
   "cell_type": "code",
   "execution_count": 10,
   "id": "0fb273ad",
   "metadata": {},
   "outputs": [
    {
     "name": "stdout",
     "output_type": "stream",
     "text": [
      "We expect 50 performance metrics.\n",
      "Number of metrics obtained: 50\n"
     ]
    },
    {
     "data": {
      "text/plain": [
       "array([0.99, 0.96, 0.94, 0.91, 0.94, 0.99, 0.93, 0.94, 0.96, 0.92, 0.96,\n",
       "       0.96, 0.95, 0.91, 0.94, 0.94, 0.99, 0.91, 0.96, 0.96, 0.94, 0.97,\n",
       "       0.91, 0.95, 0.97, 0.95, 0.96, 0.97, 0.94, 0.91, 0.94, 0.9 , 0.95,\n",
       "       0.97, 0.99, 0.95, 0.95, 0.95, 0.96, 0.95, 0.93, 0.95, 0.96, 0.99,\n",
       "       0.89, 0.97, 0.97, 0.9 , 0.95, 0.95])"
      ]
     },
     "execution_count": 10,
     "metadata": {},
     "output_type": "execute_result"
    }
   ],
   "source": [
    "logit = LogisticRegression(\n",
    "    penalty='l2', C=1, solver='liblinear', random_state=25, max_iter=10_000)\n",
    "\n",
    "rkf = RepeatedKFold(\n",
    "    n_splits=5,\n",
    "    n_repeats=10,\n",
    "    random_state=124)\n",
    "\n",
    "print(f'We expect {5 * 10} performance metrics.')\n",
    "\n",
    "clf = cross_validate(\n",
    "    logit, X_train, y_train,\n",
    "    scoring='accuracy', return_train_score=True,\n",
    "    cv=rkf)\n",
    "\n",
    "print('Number of metrics obtained:', len(clf['test_score']))\n",
    "\n",
    "clf['test_score']"
   ]
  },
  {
   "cell_type": "code",
   "execution_count": 11,
   "id": "ab5324fe",
   "metadata": {},
   "outputs": [
    {
     "name": "stdout",
     "output_type": "stream",
     "text": [
      "mean train set accuracy:  0.9579142761380888 +- 0.006060919300600648\n",
      "mean test set accuracy:  0.9482310126582277 +- 0.02511411804647664\n"
     ]
    }
   ],
   "source": [
    "print('mean train set accuracy: ', np.mean(clf['train_score']), '+-', np.std(clf['train_score']))\n",
    "\n",
    "print('mean test set accuracy: ', np.mean(clf['test_score']), '+-', np.std(clf['test_score']))"
   ]
  },
  {
   "cell_type": "markdown",
   "id": "91bea539",
   "metadata": {},
   "source": [
    "# 4. Leave One Out"
   ]
  },
  {
   "cell_type": "code",
   "execution_count": 12,
   "id": "9ccde1c4",
   "metadata": {},
   "outputs": [
    {
     "name": "stdout",
     "output_type": "stream",
     "text": [
      "We expect 398 metrics.\n",
      "Number of metrics obtained: 398\n"
     ]
    },
    {
     "data": {
      "text/plain": [
       "398"
      ]
     },
     "execution_count": 12,
     "metadata": {},
     "output_type": "execute_result"
    }
   ],
   "source": [
    "logit = LogisticRegression(\n",
    "    penalty='l2', C=10, solver='liblinear', random_state=133, max_iter=10_000)\n",
    "\n",
    "loo = LeaveOneOut()\n",
    "\n",
    "print(f'We expect {len(X_train)} metrics.')\n",
    "clf = cross_validate(\n",
    "    logit, X_train, y_train,\n",
    "    scoring='accuracy',\n",
    "    return_train_score=True,\n",
    "    cv=loo)\n",
    "\n",
    "print('Number of metrics obtained:', len(clf['test_score']))\n",
    "\n",
    "len(clf['test_score'])"
   ]
  },
  {
   "cell_type": "code",
   "execution_count": 13,
   "id": "3f730846",
   "metadata": {},
   "outputs": [
    {
     "name": "stdout",
     "output_type": "stream",
     "text": [
      "mean train set accuracy:  0.965691176284445 +- 0.0019219466789449397\n",
      "mean test set accuracy:  0.9547738693467337 +- 0.20779972993100837\n"
     ]
    }
   ],
   "source": [
    "print('mean train set accuracy: ', np.mean(clf['train_score']), '+-', np.std(clf['train_score']))\n",
    "\n",
    "print('mean test set accuracy: ', np.mean(clf['test_score']), '+-', np.std(clf['test_score']))"
   ]
  },
  {
   "cell_type": "markdown",
   "id": "86c5a78b",
   "metadata": {},
   "source": [
    "# 5. Leave P Out"
   ]
  },
  {
   "cell_type": "code",
   "execution_count": 17,
   "id": "cede3ecd",
   "metadata": {},
   "outputs": [
    {
     "name": "stdout",
     "output_type": "stream",
     "text": [
      "We expect: 4950.0 metrics.\n",
      "Number of metrics obtained: 4950\n"
     ]
    }
   ],
   "source": [
    "logit = LogisticRegression(\n",
    "    penalty='l2', C=1, solver='liblinear', random_state=23, max_iter=10_000)\n",
    "\n",
    "lpo = LeavePOut(p=2)\n",
    "\n",
    "X_train_small = X_train.head(100)\n",
    "y_train_small = y_train.head(100)\n",
    "\n",
    "print('We expect:', comb(100, 2), 'metrics.')\n",
    "\n",
    "clf = cross_validate(\n",
    "    logit,\n",
    "    X_train_small,\n",
    "    y_train_small,\n",
    "    scoring='accuracy',\n",
    "    return_train_score=True,\n",
    "    cv=lpo)\n",
    "\n",
    "print('Number of metrics obtained:', len(clf['test_score']))"
   ]
  },
  {
   "cell_type": "code",
   "execution_count": 18,
   "id": "66fe5832",
   "metadata": {},
   "outputs": [
    {
     "name": "stdout",
     "output_type": "stream",
     "text": [
      "mean train set accuracy:  0.9411255411255409 +- 0.006452738887205399\n",
      "mean test set accuracy:  0.9294949494949495 +- 0.18112651829883458\n"
     ]
    }
   ],
   "source": [
    "print('mean train set accuracy: ', np.mean(clf['train_score']), '+-', np.std(clf['train_score']))\n",
    "\n",
    "print('mean test set accuracy: ', np.mean(clf['test_score']), '+-', np.std(clf['test_score']))"
   ]
  },
  {
   "cell_type": "markdown",
   "id": "17400c62",
   "metadata": {},
   "source": [
    "# 6. Stratified K-Fold Cross-Validation"
   ]
  },
  {
   "cell_type": "code",
   "execution_count": 19,
   "id": "7066173e",
   "metadata": {},
   "outputs": [
    {
     "name": "stdout",
     "output_type": "stream",
     "text": [
      "Number of metrics obtained: 5\n"
     ]
    }
   ],
   "source": [
    "logit = LogisticRegression(\n",
    "    penalty='l2', C=1, solver='liblinear', random_state=23, max_iter=10_000)\n",
    "\n",
    "skf = StratifiedKFold(n_splits=5, shuffle=True, random_state=134)\n",
    "\n",
    "X_train_small = X_train.head(100)\n",
    "y_train_small = y_train.head(100)\n",
    "\n",
    "\n",
    "\n",
    "clf = cross_validate(\n",
    "    logit,\n",
    "    X_train_small,\n",
    "    y_train_small,\n",
    "    scoring='accuracy',\n",
    "    return_train_score=True,\n",
    "    cv=skf)\n",
    "\n",
    "print('Number of metrics obtained:', len(clf['test_score']))"
   ]
  },
  {
   "cell_type": "code",
   "execution_count": 20,
   "id": "7f8e0e6d",
   "metadata": {},
   "outputs": [
    {
     "name": "stdout",
     "output_type": "stream",
     "text": [
      "mean train set accuracy:  0.9650000000000001 +- 0.021505813167606556\n",
      "mean test set accuracy:  0.9099999999999999 +- 0.05830951894845301\n"
     ]
    }
   ],
   "source": [
    "print('mean train set accuracy: ', np.mean(clf['train_score']), '+-', np.std(clf['train_score']))\n",
    "\n",
    "print('mean test set accuracy: ', np.mean(clf['test_score']), '+-', np.std(clf['test_score']))"
   ]
  },
  {
   "cell_type": "code",
   "execution_count": null,
   "id": "523b1e34",
   "metadata": {},
   "outputs": [],
   "source": []
  }
 ],
 "metadata": {
  "kernelspec": {
   "display_name": "Python 3 (ipykernel)",
   "language": "python",
   "name": "python3"
  },
  "language_info": {
   "codemirror_mode": {
    "name": "ipython",
    "version": 3
   },
   "file_extension": ".py",
   "mimetype": "text/x-python",
   "name": "python",
   "nbconvert_exporter": "python",
   "pygments_lexer": "ipython3",
   "version": "3.9.17"
  }
 },
 "nbformat": 4,
 "nbformat_minor": 5
}
