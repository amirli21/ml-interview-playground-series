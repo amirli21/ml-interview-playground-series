{
 "cells": [
  {
   "cell_type": "code",
   "execution_count": 1,
   "id": "c47fe7b7",
   "metadata": {},
   "outputs": [],
   "source": [
    "# imports\n",
    "\n",
    "import matplotlib.pyplot as plt\n",
    "import numpy as np\n",
    "from matplotlib.colors import ListedColormap\n",
    "from sklearn.model_selection import KFold, GridSearchCV\n",
    "from sklearn.metrics import accuracy_score # for nested cv, we can optimize this"
   ]
  },
  {
   "cell_type": "code",
   "execution_count": 2,
   "id": "34d7a309",
   "metadata": {},
   "outputs": [],
   "source": [
    "def plot_feature_importances(model, data):\n",
    "    n_features = data.shape[1]\n",
    "    plt.barh(range(n_features), model.feature_importances_, align='center')\n",
    "    plt.yticks(np.arange(n_features), data.columns)\n",
    "    plt.xlabel('Feature importance')\n",
    "    plt.ylabel('Feature')"
   ]
  },
  {
   "cell_type": "code",
   "execution_count": 3,
   "id": "2ab0c7c4",
   "metadata": {},
   "outputs": [],
   "source": [
    "def plot_classification_results(features, target, model, title, xlabel, ylabel, normalizer=None):\n",
    "    if normalizer is not None:\n",
    "        X_set, y_set = normalizer.inverse_transform(features), target\n",
    "    else:\n",
    "        X_set, y_set = features, target\n",
    "    X1, X2 = np.meshgrid(np.arange(start=X_set[:, 0].min() - 10, stop=X_set[:, 0].max() + 10, step=0.25),\n",
    "                         np.arange(start=X_set[:, 1].min() - 1000, stop=X_set[:, 1].max() + 1000, step=0.25))\n",
    "\n",
    "    plt.contourf(X1, X2,\n",
    "                 model.predict(sc.transform(np.array([X1.ravel(), X2.ravel()]).T)).reshape(X1.shape),alpha=0.75, cmap=ListedColormap(('red', 'green')))\n",
    "\n",
    "    plt.xlim(X1.min(), X1.max())\n",
    "    plt.ylim(X2.min(), X2.max())\n",
    "    for i, j in enumerate(np.unique(y_set)):\n",
    "        plt.scatter(X_set[y_set==j, 0], X_set[y_set==j, 1], c=ListedColormap(('red', 'green'))(i), label=j)\n",
    "\n",
    "    plt.title(title)\n",
    "    plt.xlabel(xlabel)\n",
    "    plt.ylabel(ylabel)\n",
    "    plt.legend()\n",
    "    plt.show()"
   ]
  },
  {
   "cell_type": "code",
   "execution_count": 2,
   "id": "80c1adac",
   "metadata": {},
   "outputs": [],
   "source": [
    "def nested_cross_validation(model, grid, train_set, test_set):\n",
    "    cv_outer = KFold(n_splits=5, shuffle=True, random_state=123)\n",
    "    \n",
    "    cv_inner = KFold(n_splits=5, shuffle=True, random_state=11)\n",
    "    \n",
    "    outer_results = list()\n",
    "    X_train, y_train = train_set\n",
    "    X_test, y_test = test_set\n",
    "    \n",
    "    for train_idx, test_idx in cv_outer.split(X_train):\n",
    "        xtrain, xtest = X_train.loc[train_idx, :], X_train.loc[test_idx, :]\n",
    "        ytrain, ytest = y_train[train_idx], y_test[test_idx]\n",
    "        \n",
    "        search = GridSearchCV(model, grid, scoring='accuracy', cv=cv_inner, refit=True)\n",
    "        search.fit(xtrain, ytrain)\n",
    "        \n",
    "        yhat = search.predict(xtest)\n",
    "        accuracy = accuracy_score(ytest, yhart)\n",
    "        outer_results.append(accuracy)\n",
    "        \n",
    "        print(' >> accuracy_outer = %.3f, accuracy_inner = %.3f, cfg=%s' % (accuracy, search.best_score_, serach.best_params_))\n",
    "        \n",
    "    print('accuracy outer: %.3f +- %.3f' % (np.mean(outer_results), np.std(outer_results)))\n",
    "    \n",
    "    return search.fit(X_train, y_train)"
   ]
  },
  {
   "cell_type": "code",
   "execution_count": null,
   "id": "3a1c8a89",
   "metadata": {},
   "outputs": [],
   "source": []
  }
 ],
 "metadata": {
  "kernelspec": {
   "display_name": "Python 3 (ipykernel)",
   "language": "python",
   "name": "python3"
  },
  "language_info": {
   "codemirror_mode": {
    "name": "ipython",
    "version": 3
   },
   "file_extension": ".py",
   "mimetype": "text/x-python",
   "name": "python",
   "nbconvert_exporter": "python",
   "pygments_lexer": "ipython3",
   "version": "3.9.17"
  }
 },
 "nbformat": 4,
 "nbformat_minor": 5
}
